{
 "cells": [
  {
   "cell_type": "code",
   "execution_count": 36,
   "metadata": {},
   "outputs": [
    {
     "name": "stdout",
     "output_type": "stream",
     "text": [
      "{'a': 0.039999999999999994, 'b': 0.36000000000000004, 'c': 0.17333333333333334, 'd': 0.17333333333333334, 'e': 0.09333333333333332}\n"
     ]
    }
   ],
   "source": [
    "def compute_ranks(graph):\n",
    "    d = 0.8\n",
    "    numloops = 3000\n",
    "    \n",
    "    ranks = {}\n",
    "    pageStoredRanks = {}\n",
    "    npages = len(graph)\n",
    "    for page in graph:\n",
    "        ranks[page] = 1.0 / npages\n",
    "    \n",
    "    for i in range(0, numloops):\n",
    "        newranks = {}\n",
    "        for page in graph:\n",
    "            newrank = (1 - d) / npages\n",
    "            for node in graph:\n",
    "                if page in pageStoredRanks:\n",
    "                    newrank = pageStoredRanks[page]\n",
    "                elif page in graph[node]:\n",
    "                    newrank = newrank + d * (ranks[node] / len(graph[node]))\n",
    "            pageStoredRanks[page] = newrank\n",
    "            newranks[page] = newrank\n",
    "        ranks = newranks \n",
    "    return ranks\n",
    "\n",
    "\n",
    "g = { \"a\" : [\"b\",\"c\"],\n",
    "          \"b\" : [\"d\",\"c\",\"e\"],\n",
    "          \"c\" : [\"b\"],\n",
    "          \"d\" : [],\n",
    "          \"e\" : [\"b\",\"d\"]\n",
    "        } \n",
    "print(compute_ranks(g))"
   ]
  },
  {
   "cell_type": "code",
   "execution_count": null,
   "metadata": {},
   "outputs": [],
   "source": []
  }
 ],
 "metadata": {
  "kernelspec": {
   "display_name": "Python 3",
   "language": "python",
   "name": "python3"
  },
  "language_info": {
   "codemirror_mode": {
    "name": "ipython",
    "version": 3
   },
   "file_extension": ".py",
   "mimetype": "text/x-python",
   "name": "python",
   "nbconvert_exporter": "python",
   "pygments_lexer": "ipython3",
   "version": "3.6.5"
  }
 },
 "nbformat": 4,
 "nbformat_minor": 2
}
